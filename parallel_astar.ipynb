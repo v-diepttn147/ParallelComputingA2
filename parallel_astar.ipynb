{
 "cells": [
  {
   "cell_type": "code",
   "execution_count": null,
   "id": "69515b4f",
   "metadata": {},
   "outputs": [
    {
     "ename": "ModuleNotFoundError",
     "evalue": "No module named 'fine_grained_set'",
     "output_type": "error",
     "traceback": [
      "\u001b[31m---------------------------------------------------------------------------\u001b[39m",
      "\u001b[31mModuleNotFoundError\u001b[39m                       Traceback (most recent call last)",
      "\u001b[36mCell\u001b[39m\u001b[36m \u001b[39m\u001b[32mIn[6]\u001b[39m\u001b[32m, line 4\u001b[39m\n\u001b[32m      1\u001b[39m \u001b[38;5;28;01mimport\u001b[39;00m\u001b[38;5;250m \u001b[39m\u001b[34;01msys\u001b[39;00m\n\u001b[32m      2\u001b[39m sys.path.append(\u001b[33m'\u001b[39m\u001b[33m../concurrent_set\u001b[39m\u001b[33m'\u001b[39m)  \u001b[38;5;66;03m# tùy thuộc vào đường dẫn thư mục thực tế\u001b[39;00m\n\u001b[32m----> \u001b[39m\u001b[32m4\u001b[39m \u001b[38;5;28;01mfrom\u001b[39;00m\u001b[38;5;250m \u001b[39m\u001b[34;01mfine_grained_set\u001b[39;00m\u001b[38;5;250m \u001b[39m\u001b[38;5;28;01mimport\u001b[39;00m FineGrainedSet\n",
      "\u001b[31mModuleNotFoundError\u001b[39m: No module named 'fine_grained_set'"
     ]
    }
   ],
   "source": [
    "import sys\n",
    "sys.path.append('./concurrent_set')  # tùy thuộc vào đường dẫn thư mục thực tế\n",
    "\n",
    "from fine_grained_set import FineGrainedSet\n"
   ]
  },
  {
   "cell_type": "code",
   "execution_count": null,
   "id": "582d700d",
   "metadata": {},
   "outputs": [],
   "source": [
    "class NodeWithPriority:\n",
    "    def __init__(self, value, priority):\n",
    "        self.value = value\n",
    "        self.priority = priority\n",
    "    \n",
    "    def __lt__(self, other):  # để so sánh trong danh sách\n",
    "        return self.priority < other.priority\n",
    "\n",
    "class ConcurrentPriorityQueue:\n",
    "    def __init__(self):\n",
    "        self.set = FineGrainedSet()\n",
    "        self.items = {}\n",
    "\n",
    "    def insert(self, node, priority):\n",
    "        wrapped = NodeWithPriority(node, priority)\n",
    "        self.items[node] = wrapped\n",
    "        self.set.add(wrapped)\n",
    "\n",
    "    def pop_min(self):\n",
    "        # Lấy phần tử đầu tiên (có priority nhỏ nhất)\n",
    "        curr = self.set.head.next\n",
    "        if curr == self.set.tail:\n",
    "            return None\n",
    "        self.set.remove(curr.value)\n",
    "        return curr.value.value  # Trả lại node gốc\n",
    "\n",
    "    def is_empty(self):\n",
    "        return self.set.head.next == self.set.tail\n"
   ]
  },
  {
   "cell_type": "code",
   "execution_count": null,
   "id": "c0533349",
   "metadata": {},
   "outputs": [],
   "source": [
    "def heuristic(a, b):\n",
    "    coord_a = (G.nodes[a]['y'], G.nodes[a]['x'])\n",
    "    coord_b = (G.nodes[b]['y'], G.nodes[b]['x'])\n",
    "    return geodesic(coord_a, coord_b).meters\n",
    "\n",
    "def parallel_a_star(G, start, goal, num_threads=4):\n",
    "    open_set = ConcurrentPriorityQueue()\n",
    "    open_set.insert(start, 0)\n",
    "    \n",
    "    g_score = {start: 0}\n",
    "    f_score = {start: heuristic(start, goal)}\n",
    "    came_from = {}\n",
    "    visited = set()\n",
    "    lock = threading.Lock()\n",
    "\n",
    "    def worker():\n",
    "        while not open_set.is_empty():\n",
    "            with lock:\n",
    "                current = open_set.pop_min()\n",
    "            if current is None:\n",
    "                return\n",
    "\n",
    "            if current == goal:\n",
    "                return\n",
    "\n",
    "            for neighbor in G.successors(current):\n",
    "                tentative_g = g_score.get(current, float('inf')) + G.edges[current, neighbor, 0].get(\"travel_time\", 1)\n",
    "                if tentative_g < g_score.get(neighbor, float('inf')):\n",
    "                    with lock:\n",
    "                        g_score[neighbor] = tentative_g\n",
    "                        f_score[neighbor] = tentative_g + heuristic(neighbor, goal)\n",
    "                        came_from[neighbor] = current\n",
    "                        open_set.insert(neighbor, f_score[neighbor])\n",
    "\n",
    "    threads = [threading.Thread(target=worker) for _ in range(num_threads)]\n",
    "    for t in threads: t.start()\n",
    "    for t in threads: t.join()\n",
    "\n",
    "    return came_from\n"
   ]
  },
  {
   "cell_type": "code",
   "execution_count": null,
   "id": "0f0e5a84",
   "metadata": {},
   "outputs": [],
   "source": [
    "def reconstruct_path(came_from, current):\n",
    "    path = [current]\n",
    "    while current in came_from:\n",
    "        current = came_from[current]\n",
    "        path.append(current)\n",
    "    path.reverse()\n",
    "    return path\n",
    "\n",
    "start_time = time.time()\n",
    "came_from = parallel_a_star(G, start_node, goal_node, num_threads=4)\n",
    "end_time = time.time()\n",
    "\n",
    "path = reconstruct_path(came_from, goal_node)\n",
    "print(f\"🔄 Path length: {len(path)} nodes\")\n",
    "print(f\"⏱ Execution time: {end_time - start_time:.4f}s\")\n"
   ]
  }
 ],
 "metadata": {
  "kernelspec": {
   "display_name": "Python 3",
   "language": "python",
   "name": "python3"
  },
  "language_info": {
   "codemirror_mode": {
    "name": "ipython",
    "version": 3
   },
   "file_extension": ".py",
   "mimetype": "text/x-python",
   "name": "python",
   "nbconvert_exporter": "python",
   "pygments_lexer": "ipython3",
   "version": "3.13.3"
  }
 },
 "nbformat": 4,
 "nbformat_minor": 5
}
